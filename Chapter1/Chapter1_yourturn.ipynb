{
  "nbformat": 4,
  "nbformat_minor": 0,
  "metadata": {
    "kernelspec": {
      "display_name": "Python 3",
      "language": "python",
      "name": "python3"
    },
    "language_info": {
      "codemirror_mode": {
        "name": "ipython",
        "version": 3
      },
      "file_extension": ".py",
      "mimetype": "text/x-python",
      "name": "python",
      "nbconvert_exporter": "python",
      "pygments_lexer": "ipython3",
      "version": "3.7.4"
    },
    "colab": {
      "name": "Chapter1_yourturn.ipynb",
      "provenance": [],
      "include_colab_link": true
    }
  },
  "cells": [
    {
      "cell_type": "markdown",
      "metadata": {
        "id": "view-in-github",
        "colab_type": "text"
      },
      "source": [
        "<a href=\"https://colab.research.google.com/github/fajrulfx/Data-Analysis/blob/main/Chapter1/Chapter1_yourturn.ipynb\" target=\"_parent\"><img src=\"https://colab.research.google.com/assets/colab-badge.svg\" alt=\"Open In Colab\"/></a>"
      ]
    },
    {
      "cell_type": "markdown",
      "metadata": {
        "id": "tQSlTTqUxegb"
      },
      "source": [
        "# To be completed at the Live Session and in your own time.\n",
        "\n",
        "These set of examples we will help you get familiar with Jupyter notebooks and useful Python packages and terminology - this is important not only for practice required for the assessements, but also to go through some of the basic concepts that will be needed to understand how to do data analysis, using Python and Jupyter Notebooks as our tools. \n",
        "\n",
        "Before attempting these examples, please ensure you have read through [Chapter 1 Jupyter Notebook](https://github.com/haleygomez/Data-Analysis-2022/blob/master/blended_exercises/Chapter1/Chapter1.ipynb) and have completed the Learning Central **Chapter 1 quiz**. "
      ]
    },
    {
      "cell_type": "markdown",
      "metadata": {
        "id": "B3TNlz4Txegd"
      },
      "source": [
        "First we will define some useful packages we want to use in this notebook to answer the following questions:"
      ]
    },
    {
      "cell_type": "code",
      "metadata": {
        "id": "_Oy3aLHaxege"
      },
      "source": [
        "# define and import some important things \n",
        "import numpy as np\n",
        "import pylab as plt\n",
        "\n",
        "%matplotlib inline "
      ],
      "execution_count": 1,
      "outputs": []
    },
    {
      "cell_type": "markdown",
      "metadata": {
        "id": "WELym83txegf"
      },
      "source": [
        "***"
      ]
    },
    {
      "cell_type": "markdown",
      "metadata": {
        "id": "Uffsruadxegf"
      },
      "source": [
        "\n",
        "# Plotting in Python"
      ]
    },
    {
      "cell_type": "markdown",
      "metadata": {
        "id": "zmR2NE4wxegf"
      },
      "source": [
        "## Question "
      ]
    },
    {
      "cell_type": "markdown",
      "metadata": {
        "id": "8uHm8tIJxegg"
      },
      "source": [
        "A star brightens over time until it explodes as a supernova. Astronomers record the brightness (as a factor of the normal brightness) with days since it started to brighten, recording the following datasets: <br><br>\n",
        "\n",
        "time = [0.,0.08163265,    0.24489796,  0.32653061,  \n",
        "  0.48979592,   0.73469388,  0.81632653,  \n",
        "  0.97959184 ,  1.2244898 ,  1.30612245,  \n",
        "  1.46938776  ,1.71428571,  1.79591837, \n",
        "  1.95918367 ,   2.20408163,  2.28571429,  \n",
        "  2.44897959 ,    2.7755102,\n",
        "  2.93877551 ,  3.18367347 , 3.26530612  ,\n",
        "  3.42857143 , 3.67346939,  3.75510204   , 4.       ]\n",
        "<br><br>\n",
        "\n",
        "brightness = [0.36253211,    1.16748232 ,\n",
        "  1.78775018,  2.01934344 ,   2.70657393 ,\n",
        "  2.57897185,  2.96562829 ,    3.00174824 ,\n",
        "  2.93663326,  2.80591525 ,   2.11027035 ,\n",
        "  1.67940753,  1.64772549 ,  0.3513817  ,\n",
        "  0.33366962,  0.47097419 , -0.39790443,\n",
        " -0.65133529, -1.52086508 , -1.76831912,\n",
        " -2.05865798, -1.55083722 ,-1.90755375 ,\n",
        " -1.74307249, -1.66250842] \n",
        "\n",
        "<br>\n",
        "\n",
        "Day 0 marks the time of the explosion. \n",
        "<br>\n",
        "\n",
        "1. Plot the data. Don't forget to label the axes. Set the colour of the data to be green with a diamond marker with marker size = 50. <br><br>\n",
        "\n",
        "2. The brightness values have an estimated error of 10%.  Plot the datapoints with errorbars in $y$.   <br><br>\n",
        "\n",
        "3. Astronomer Rees argues that this data could be fit by the function $y =  Asin(Bx)+C$. Plot this function on top of your data with some guesses at what $A$, $B$ and $C$ are (hint: $C=0.5$ provides a good fit to the data).<br><br>\n",
        "\n",
        "4. Discuss the plot."
      ]
    },
    {
      "cell_type": "markdown",
      "metadata": {
        "id": "HfM_5Jqsxegh"
      },
      "source": [
        "### Answer:"
      ]
    },
    {
      "cell_type": "markdown",
      "metadata": {
        "id": "AgVrpdW6xegh"
      },
      "source": [
        ""
      ]
    },
    {
      "cell_type": "code",
      "metadata": {
        "id": "k_p8ql8D3Jap"
      },
      "source": [
        "import numpy as np\n",
        "import matplotlib.pyplot as plt\n"
      ],
      "execution_count": 11,
      "outputs": []
    },
    {
      "cell_type": "code",
      "metadata": {
        "id": "msMCYDgm27vc"
      },
      "source": [
        "t = np.array([0.,0.08163265, 0.24489796, 0.32653061,\n",
        "0.48979592, 0.73469388, 0.81632653,\n",
        "0.97959184 , 1.2244898 , 1.30612245,\n",
        "1.46938776 ,1.71428571, 1.79591837, 1.95918367 , 2.20408163, 2.28571429,\n",
        "2.44897959 , 2.7755102, 2.93877551 , 3.18367347 , 3.26530612 , 3.42857143 , 3.67346939, 3.75510204 , 4. ])\n",
        "\n",
        "brightness = np.array([0.36253211, 1.16748232 , 1.78775018, 2.01934344 , 2.70657393 , 2.57897185, 2.96562829 , 3.00174824 , 2.93663326, 2.80591525 , 2.11027035 , 1.67940753, 1.64772549 , 0.3513817 , 0.33366962, 0.47097419 , -0.39790443, -0.65133529, -1.52086508 , -1.76831912, -2.05865798, -1.55083722 ,-1.90755375 , -1.74307249, -1.66250842])\n",
        "\n",
        "y_error = 0.1 * brightness"
      ],
      "execution_count": 15,
      "outputs": []
    },
    {
      "cell_type": "code",
      "metadata": {
        "id": "vEDz5H683uX-",
        "outputId": "72160239-7926-4dbb-fb9b-ef98d7eb3a16",
        "colab": {
          "base_uri": "https://localhost:8080/",
          "height": 301
        }
      },
      "source": [
        "plt.errorbar(t,brightness,yerr=y_error,fmt='D',c='green') \n",
        "plt.xlabel('Time',fontsize=16)\n",
        "plt.ylabel('Brightness',fontsize=16)"
      ],
      "execution_count": 19,
      "outputs": [
        {
          "output_type": "execute_result",
          "data": {
            "text/plain": [
              "Text(0, 0.5, 'Brightness')"
            ]
          },
          "metadata": {},
          "execution_count": 19
        },
        {
          "output_type": "display_data",
          "data": {
            "image/png": "[encoded data removed]",
            "text/plain": [
              "<Figure size 432x288 with 1 Axes>"
            ]
          },
          "metadata": {
            "needs_background": "light"
          }
        }
      ]
    },
    {
      "cell_type": "code",
      "metadata": {
        "id": "8OivX_iB54YC",
        "outputId": "8096c87d-4a61-4227-9419-faa31ab78dc5",
        "colab": {
          "base_uri": "https://localhost:8080/",
          "height": 301
        }
      },
      "source": [
        "A = 2.5\n",
        "B = 1.4\n",
        "C = 0.5\n",
        "\n",
        "x_model = np.arange(0,4,0.1)\n",
        "y_model = A*np.sin(B*x_model)+C\n",
        "\n",
        "plt.errorbar(t,brightness,yerr=y_error,fmt='D',c='green')\n",
        "plt.plot(x_model,y_model) \n",
        "plt.xlabel('Time',fontsize=16)\n",
        "plt.ylabel('Brightness',fontsize=16)"
      ],
      "execution_count": 31,
      "outputs": [
        {
          "output_type": "execute_result",
          "data": {
            "text/plain": [
              "Text(0, 0.5, 'Brightness')"
            ]
          },
          "metadata": {},
          "execution_count": 31
        },
        {
          "output_type": "display_data",
          "data": {
            "image/png": "[encoded data removed]",
            "text/plain": [
              "<Figure size 432x288 with 1 Axes>"
            ]
          },
          "metadata": {
            "needs_background": "light"
          }
        }
      ]
    },
    {
      "cell_type": "markdown",
      "metadata": {
        "id": "TSO7uq8exegi"
      },
      "source": [
        "***"
      ]
    },
    {
      "cell_type": "markdown",
      "metadata": {
        "id": "ufqmBonfxegi"
      },
      "source": [
        " # Conditional Statements"
      ]
    },
    {
      "cell_type": "markdown",
      "metadata": {
        "id": "3biaQoFtxegi"
      },
      "source": [
        "## Question "
      ]
    },
    {
      "cell_type": "markdown",
      "metadata": {
        "id": "UX3UnKIlxegj"
      },
      "source": [
        "You are driving too fast and a police officer stops you. Write a **function** to return one of 3 possible results: \"No ticket\", \"Small ticket\", or \"Big Ticket\". If your speed is 70mph or less, the result is \"No Ticket\". If speed is between 71 and 80mph inclusive, the result is \"Small Ticket\". If speed is 81mph or more, the result is \"Big Ticket\". Unless it is your birthday -- on your birthday, the police officer will let you go at 5mph higher in all cases.\n",
        "<br> \n",
        "\n",
        "Tip: For your birthday, use True and False statements.\n",
        "<br> \n",
        "\n",
        "Demonstrate your code works using print statements."
      ]
    },
    {
      "cell_type": "markdown",
      "metadata": {
        "id": "HEAaJQy3xegj"
      },
      "source": [
        "### Answer:"
      ]
    },
    {
      "cell_type": "code",
      "metadata": {
        "id": "MPoV0zvG_7K5",
        "outputId": "7d07e44b-c905-477e-b9ab-e89d0402509f",
        "colab": {
          "base_uri": "https://localhost:8080/"
        }
      },
      "source": [
        "speed = input('What is your speed? ')\n",
        "speed = int(speed)\n",
        "birthday_input = False\n",
        "\n",
        "while birthday_input == False:\n",
        "  birthday = input('Is today your birthday? (Y/N) ')\n",
        "  if birthday == 'Y' or birthday == 'y':\n",
        "    birthday = True\n",
        "    birthday_input = True\n",
        "  elif birthday == 'N' or birthday == 'n':\n",
        "    birthday = False\n",
        "    birthday_input = True\n",
        "  else:\n",
        "    print('wrong input')\n",
        "\n",
        "print('|')\n",
        "print('|')\n",
        "print('|')\n",
        "\n",
        "if birthday == True:\n",
        "  if speed <= 75:\n",
        "    print('No Ticket')\n",
        "  elif 76 < speed < 85:\n",
        "    print('Small Ticket')\n",
        "  elif speed >= 86:\n",
        "    print('Big Ticket')\n",
        "else:\n",
        "  if speed <= 70:\n",
        "    print('No Ticket')\n",
        "  elif 71 < speed < 80:\n",
        "    print('Small Ticket')\n",
        "  elif speed >= 81:\n",
        "    print('Big Ticket')"
      ],
      "execution_count": 46,
      "outputs": [
        {
          "output_type": "stream",
          "name": "stdout",
          "text": [
            "What is your speed? 85\n",
            "Is today your birthday? (Y/N) n\n",
            "|\n",
            "|\n",
            "|\n",
            "Big Ticket\n"
          ]
        }
      ]
    },
    {
      "cell_type": "markdown",
      "metadata": {
        "id": "Z-6-Xc-xxegj"
      },
      "source": [
        "*Your answer here:*"
      ]
    }
  ]
}