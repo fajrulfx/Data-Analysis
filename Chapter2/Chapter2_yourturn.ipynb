{
  "nbformat": 4,
  "nbformat_minor": 0,
  "metadata": {
    "kernelspec": {
      "display_name": "Python 3",
      "language": "python",
      "name": "python3"
    },
    "language_info": {
      "codemirror_mode": {
        "name": "ipython",
        "version": 3
      },
      "file_extension": ".py",
      "mimetype": "text/x-python",
      "name": "python",
      "nbconvert_exporter": "python",
      "pygments_lexer": "ipython3",
      "version": "3.7.4"
    },
    "colab": {
      "name": "Chapter2_yourturn.ipynb",
      "provenance": [],
      "include_colab_link": true
    }
  },
  "cells": [
    {
      "cell_type": "markdown",
      "metadata": {
        "id": "view-in-github",
        "colab_type": "text"
      },
      "source": [
        "<a href=\"https://colab.research.google.com/github/fajrulfx/Data-Analysis/blob/main/Chapter2/Chapter2_yourturn.ipynb\" target=\"_parent\"><img src=\"https://colab.research.google.com/assets/colab-badge.svg\" alt=\"Open In Colab\"/></a>"
      ]
    },
    {
      "cell_type": "markdown",
      "metadata": {
        "id": "3fc7b8i88C5m"
      },
      "source": [
        "# To be completed at the Live Session and in your own time.\n",
        "\n",
        "These set of examples we will help you get familiar with estimating probabilities and using Bayes Theorem within a Jupyter notebook. The questions coloured green are important practice for CA.\n",
        "\n",
        "Before attempting these examples, please ensure you have read through [Chapter 2 Jupyter Notebook](https://github.com/haleygomez/Data-Analysis-2022/blob/master/blended_exercises/Chapter2/Chapter2.ipynb) and have completed the Learning Central **Chapter 2 quiz**. \n",
        "\n",
        "These are good practice for CA 1 Questions 1 and 4."
      ]
    },
    {
      "cell_type": "markdown",
      "metadata": {
        "id": "YU_SeUbX8C5q"
      },
      "source": [
        "***"
      ]
    },
    {
      "cell_type": "markdown",
      "metadata": {
        "id": "jf_WCXqs8C5r"
      },
      "source": [
        "# Probabilities"
      ]
    },
    {
      "cell_type": "markdown",
      "metadata": {
        "id": "qcAOCJ7r8C5r"
      },
      "source": [
        "***"
      ]
    },
    {
      "cell_type": "markdown",
      "metadata": {
        "id": "oUOd6cwS8C5r"
      },
      "source": [
        "## Question"
      ]
    },
    {
      "cell_type": "markdown",
      "metadata": {
        "id": "zub3yEvT8C5r"
      },
      "source": [
        "You want to send a document to your bank and it is very important it gets there the next day. You therefore send two copies of the document using Hermes (delivery service $A$) and the Royal Mail (delivery service $B$).  The probabilities of those companies delivering on time are:\n",
        "\n",
        "- 0.90 for service A\n",
        "- 0.80 for service B \n",
        "- 0.75 for both services being on time.\n",
        "\n",
        "Does your strategy improve the chances the document will be delivered on time? "
      ]
    },
    {
      "cell_type": "markdown",
      "metadata": {
        "id": "qS-GN_FK8C5s"
      },
      "source": [
        "### Answer"
      ]
    },
    {
      "cell_type": "markdown",
      "metadata": {
        "id": "4Cbnq83Z8C5s"
      },
      "source": [
        "P(A) = 0.9\n",
        "\n",
        "P(B) = 0.8\n",
        "\n",
        "P(A $\\cap$ B) = 0.75\n",
        "\n",
        "So, the chances the document will be delivered on time is P(A $\\cup$ B)\n",
        "\n",
        "$P(A \\cup B) = P(A) + P(B) - P(A \\cap B)$\n",
        "\n",
        "$P(A \\cup B) = 0.9 + 0.8 - 0.75$\n",
        "\n",
        "$P(A \\cup B) = 0.95$\n",
        "\n",
        "Therefore, the chance increases\n"
      ]
    },
    {
      "cell_type": "markdown",
      "metadata": {
        "id": "UoQ3lZzE8C5t"
      },
      "source": [
        "***"
      ]
    },
    {
      "cell_type": "markdown",
      "metadata": {
        "id": "ks63bpmS8C5t"
      },
      "source": [
        "## <font color=#30a64d>Question</font>"
      ]
    },
    {
      "cell_type": "markdown",
      "metadata": {
        "id": "uDdTJbI38C5t"
      },
      "source": [
        "You flip a coin 5 times. What is the probability that heads will not occur 3 times?    "
      ]
    },
    {
      "cell_type": "markdown",
      "metadata": {
        "id": "pcdrVtRL8C5t"
      },
      "source": [
        "### Answer"
      ]
    },
    {
      "cell_type": "markdown",
      "metadata": {
        "id": "w2bC2XOT8C5u"
      },
      "source": [
        "Total coin arranggements = $2^5$ = 32\n",
        "\n",
        "Combination to get 3 heads = ${\\dfrac{5!}{3! 2!}} = 10$\n",
        "\n",
        "Probability of getting 3 heads is\n",
        "\n",
        "$P(3H) = \\dfrac{10}{32} = \\dfrac{5}{16}$\n",
        "\n",
        "Thus, probability of the heads will not occur 3 times is\n",
        "\n",
        "$P(3H^c) = 1 - \\dfrac{5}{16} = \\dfrac{9}{16}$\n"
      ]
    },
    {
      "cell_type": "markdown",
      "metadata": {
        "id": "k-81vohj8C5u"
      },
      "source": [
        "***"
      ]
    },
    {
      "cell_type": "markdown",
      "metadata": {
        "id": "29AUKAFl8C5u"
      },
      "source": [
        "# Bayes Theorem"
      ]
    },
    {
      "cell_type": "markdown",
      "metadata": {
        "id": "BLM0l1Kc8C5u"
      },
      "source": [
        "## <font color=#30a64d>Question</font>"
      ]
    },
    {
      "cell_type": "markdown",
      "metadata": {
        "id": "sz7KJbJV8C5v"
      },
      "source": [
        "Suppose you think you have a rare disease where 1 in 10,000 people are affected. You go to your doctor, and she performs a test. The test is of a high quality, and is correct 99% of the time.\n",
        "\n",
        "Unfortunately your results come back positive for the disease. What is your chance of having the disease? Is it (roughly): <br><br>\n",
        "\n",
        "a) 99% <br>\n",
        "b) 90% <br>\n",
        "c) 10% or <br>\n",
        "d) 1%? <br> <br>\n",
        "\n",
        "Repeat the same as above, but change 1 in 10,000 to 1 in 100. What would the chances of having the disease be now?"
      ]
    },
    {
      "cell_type": "markdown",
      "metadata": {
        "id": "0LMxT1uE8C5v"
      },
      "source": [
        "### Answer"
      ]
    },
    {
      "cell_type": "markdown",
      "metadata": {
        "id": "VItcDqHf8C5v"
      },
      "source": [
        "P(A) = Probability of disease\n",
        "\n",
        "P(B) = Probability of test accuracy\n",
        "\n",
        "$P(A|B)=\\dfrac{P(B|A) P(A)}{P(B)}$\n",
        "\n",
        "$P(A|B)=\\dfrac{P(B|A) P(A)}{P(B|A)P(A)+P(B|A^c)P(A^c)}$\n",
        "\n",
        "$P(A|B)=\\dfrac{(0.99) (0.0001)}{(0.99)(0.0001)+(0.01)(0.9999)}$"
      ]
    },
    {
      "cell_type": "code",
      "metadata": {
        "id": "4PNwRba2AhCK",
        "outputId": "4cb9ca7d-5615-4e1a-93b5-3bfceb4f4e12",
        "colab": {
          "base_uri": "https://localhost:8080/"
        }
      },
      "source": [
        "# P(A) = Probability of rare disease\n",
        "# P(B) = Probability of test accuracy\n",
        "\n",
        "p_a = 1./100\n",
        "p_ba = 0.99\n",
        "\n",
        "p_ab = (p_ba*p_a)/(p_ba*p_a+(1-p_ba)*(1-p_a))\n",
        "print(\"Probability of having disease given tested positive is \", p_ab*100, '%')"
      ],
      "execution_count": 3,
      "outputs": [
        {
          "output_type": "stream",
          "name": "stdout",
          "text": [
            "Probability of having disease given tested positive is  49.99999999999997 %\n"
          ]
        }
      ]
    },
    {
      "cell_type": "markdown",
      "metadata": {
        "id": "_xNVhzap8C5w"
      },
      "source": [
        "## Question"
      ]
    },
    {
      "cell_type": "markdown",
      "metadata": {
        "id": "dYnftK2d8C5w"
      },
      "source": [
        "We saw in [Chapter 2 Notebook](https://github.com/haleygomez/Data-Analysis-2022/blob/master/blended_exercises/Chapter2/Chapter2.ipynb) that the probability that a couple has 2 children that are boys when the older child is a boy is 50%. \n",
        "\n",
        "What about the following scenario: a couple has two children, of which at least one is a boy. If the probabilities of having a boy or a girl are both 50%, what is the probability that the couple has two boys?\n",
        "\n",
        "At first glance, this appears to be asking the same question as in our previous notebook. We might reason as follows: “We know that one is a boy, so the only question is whether the other one is a boy, and the chances of that being the case are 50%. So again, the answer is 50%.”\n",
        "\n",
        "Although this sounds common sense, it is incorrect.  Show why."
      ]
    },
    {
      "cell_type": "markdown",
      "metadata": {
        "id": "dXTBQOjr8C5w"
      },
      "source": [
        "### Answer"
      ]
    },
    {
      "cell_type": "markdown",
      "metadata": {
        "id": "EFiBZ-Ru8C5x"
      },
      "source": [
        "$P(A)=$ Both children are boy\n",
        "\n",
        "$P(B)=$ At least 1 boy\n",
        "\n",
        "$P(A|B)=\\dfrac{P(B|A)P(A)}{P(B)}$\n",
        "\n",
        "$P(A|B)=\\dfrac{P(B|A)P(A)}{P(B|A)P(A)+P(B|A^c)P(A^c)}$\n",
        "\n",
        "$P(A|B)=\\dfrac{(1)(1/4)}{(1)(1/4)+(2/3)(3/4)}$\n",
        "\n",
        "$P(A|B)= \\dfrac{1}{3}$\n"
      ]
    }
  ]
}